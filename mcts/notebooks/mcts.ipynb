{
 "cells": [
  {
   "cell_type": "code",
   "execution_count": 1,
   "metadata": {},
   "outputs": [],
   "source": [
    "import os\n",
    "import re \n",
    "\n",
    "from openai import OpenAI\n",
    "# from mcts.settings.constants import *\n",
    "\n",
    "LLAMA_MODEL = \"llama3-8b-8192\"\n",
    "OPENAI_MODEL = \"gpt-4o-mini\"\n",
    "GROQ_ENDPOINT = \"https://api.groq.com/openai\"\n",
    "OPENAI_ENDPOINT = \"https://api.openai.com\"\n",
    "OPENAI_API_KEY = os.environ[\"OPENAI_API_KEY\"]\n",
    "\n",
    "openai_api_base = OPENAI_ENDPOINT + \"/v1\"\n",
    "\n",
    "client = OpenAI(\n",
    "    api_key=OPENAI_API_KEY,\n",
    "    base_url=openai_api_base\n",
    ")"
   ]
  },
  {
   "cell_type": "code",
   "execution_count": 14,
   "metadata": {},
   "outputs": [],
   "source": [
    "def chat_completion_request_openai(prompt: str = \"\"):\n",
    "    messages = [\n",
    "        {\"role\": \"user\", \"content\": prompt}\n",
    "    ]\n",
    "    response = client.chat.completions.create(\n",
    "        model=OPENAI_MODEL,\n",
    "        messages=messages,\n",
    "        temperature=1.0,\n",
    "        max_tokens=1500\n",
    "    )\n",
    "    if response.choices:\n",
    "        return response.choices[0].message.content\n",
    "    return None\n",
    "\n",
    "\n",
    "def get_draft_answer_critique(question, draft_answer):\n",
    "    prompt = (\n",
    "        f\"Question: {question}\"\n",
    "        f\"Draft Answer: {draft_answer}\"\n",
    "        \"Please critique the draft answer.\"\n",
    "        \"Carefully assess if the answer is correct of not and why.\"\n",
    "        \"Consider multiple ways of verifying if the answer is correct.\"\n",
    "        \"DO: Point out EVERY flaw and hold the draft answer to a very high standard.\"\n",
    "        \"DO: Provide specific recommendations to improve the answer.\"\n",
    "        \"DO: Think step by step.\"\n",
    "        \"DO NOT provide a revised answer\"\n",
    "    )\n",
    "    return chat_completion_request_openai(prompt)\n",
    "\n",
    "\n",
    "def get_improved_answer(question, draft_answer, critique):\n",
    "    prompt = (\n",
    "        f\"Question: {question}\"\n",
    "        f\"Draft Answer: {draft_answer}\"\n",
    "        f\"Critique: {critique}\"\n",
    "        \"Please improve the draft answer based on the critique following this format:\"\n",
    "        \"Reasoning Process: <step-by-ste- reasoning process>\\n\"\n",
    "        \"Verification: <verification of the facts>\\n\"\n",
    "        \"Final Answer: <the improved and verified answer>\\n\"\n",
    "    )\n",
    "    return chat_completion_request_openai(prompt)\n",
    "\n",
    "def rate_answer(question, answer):\n",
    "    prompt = (\n",
    "        f\"Question: {question}\"\n",
    "        f\"Answer: {answer}\"\n",
    "        \"As an expert on this topic, please provide a detailed critique \"\n",
    "        \"Provide ONLY a critique, not a suggested answer.\"\n",
    "        \"Then, rate the answer on a scale of 0 to 100.\"\n",
    "        \"The response should be in the following format:\"\n",
    "        \"Critique: <detailed critique>\\n\"\n",
    "        \"Rating: <0 to 100 rating>\\n\"\n",
    "    )\n",
    "    response = chat_completion_request_openai(prompt)\n",
    "    try: \n",
    "        match = re.search(r\"Rating:\\s+(\\d+)\", response)\n",
    "        if match:\n",
    "            rating = int(match.group(1))\n",
    "            if rating > 95:\n",
    "                rating = 95.0\n",
    "            rating /= 100.0\n",
    "        else:\n",
    "            raise ValueError(\"Rating not found in response.\")\n",
    "    except Exception as e:\n",
    "        print(f\"Error extracting rating: {e}\")\n",
    "        print(f\"Rating response was: {response}\")\n",
    "        rating = 0.0\n",
    "    return rating"
   ]
  },
  {
   "cell_type": "code",
   "execution_count": 7,
   "metadata": {},
   "outputs": [
    {
     "name": "stdout",
     "output_type": "stream",
     "text": [
      "Here’s an array of strings where each element represents a season:\n",
      "\n",
      "```javascript\n",
      "const seasons = [\"Spring\", \"Summer\", \"Fall\", \"Winter\"];\n",
      "```\n",
      "\n",
      "If you have a specific programming language or format in mind, please let me know!\n"
     ]
    }
   ],
   "source": [
    "prompt = \"return an array of strings where each array is a season\"\n",
    "response = chat_completion_request_openai(prompt)\n",
    "print(response)"
   ]
  },
  {
   "cell_type": "code",
   "execution_count": 9,
   "metadata": {},
   "outputs": [
    {
     "name": "stdout",
     "output_type": "stream",
     "text": [
      "The draft answer contains a significant error. Here’s a step-by-step critique:\n",
      "\n",
      "1. **Inaccuracy of Information**: The statement claims that the capital of France is Lyon, which is incorrect. The capital of France is Paris. This is a fundamental mistake, as it provides critical misinformation.\n",
      "\n",
      "2. **Failure to Cite Sources**: The draft answer does not reference any sources or means of verification. A well-formed answer about a geographic fact should ideally provide a reliable source, such as an encyclopedia, government website, or educational resource. Citing reputable sources enhances credibility.\n",
      "\n",
      "3. **Geographic Significance**: Even though Lyon is a major city in France, known for its historical and cultural importance, it does not serve as the capital. The answer fails to indicate this distinction and does not recognize the prominence of Paris as the nation's political, economic, and cultural center.\n",
      "\n",
      "4. **Potential Misleading Implications**: By stating that Lyon is the capital, the draft answer might lead the reader to mistakenly believe that Lyon has the functions of a capital city, which could result in misconceptions about government operations and the location of key historical events.\n",
      "\n",
      "5. **Lack of Context**: The answer lacks context or a brief explanation regarding the significance of Paris in relation to France. Including a sentence about its importance or why it is recognized as the capital can provide the reader with additional useful information.\n",
      "\n",
      "6. **Failure to Mention Alternate Definitions**: The answer doesn’t clarify if it’s focusing strictly on the political capital or whether other interpretations might exist (e.g., economic or cultural capitals). Although Paris is the answer for political capital, it's beneficial to acknowledge the rich history and culture of other cities like Lyon.\n",
      "\n",
      "7. **Usage of Terms**: The phrase \"the capital of France is\" could be better articulated. For example, states could precede geographical information briefly discussing why it matters or implications of stating a city that isn't the capital.\n",
      "\n",
      "**Recommendations for Improvement**:\n",
      "- Correct the factual error by clearly stating that Paris is the capital of France.\n",
      "- Include a reliable source or indicate where the information can be verified (e.g., a link to a government or educational website).\n",
      "- Add a sentence providing context about Paris's historical and cultural significance and its central role in French governance.\n",
      "- Ensure clarity and precision in phrasing to avoid misunderstandings.\n"
     ]
    }
   ],
   "source": [
    "prompt = \"What is the capital of France\"\n",
    "draft_answer = \"The capital of France is Lyon\"\n",
    "\n",
    "critique = get_draft_answer_critique(prompt, draft_answer)\n",
    "print(critique)"
   ]
  },
  {
   "cell_type": "code",
   "execution_count": 12,
   "metadata": {},
   "outputs": [
    {
     "name": "stdout",
     "output_type": "stream",
     "text": [
      "Reasoning Process: \n",
      "1. The draft answer states that the capital of France is Lyon. However, I need to recall the correct capital city of France.\n",
      "2. France's capital is a well-known and widely recognized fact. I need to identify the capital city among the major cities in France.\n",
      "3. In this case, Paris is generally recognized as the capital city of France, while Lyon is a major city but not the capital.\n",
      "\n",
      "Verification:\n",
      "- I will verify by checking multiple reliable sources or general knowledge about countries and their capitals. In geography, it is commonly known that Paris serves as the capital city of France.\n",
      "\n",
      "Final Answer:\n",
      "The capital of France is Paris.\n"
     ]
    }
   ],
   "source": [
    "prompt = \"What is the capital of France\"\n",
    "draft_answer = \"The capital of France is Lyon\"\n",
    "critique = \"That is just wrong\"\n",
    "\n",
    "improved_answer = get_improved_answer(prompt, draft_answer, critique)\n",
    "print(improved_answer)"
   ]
  },
  {
   "cell_type": "code",
   "execution_count": 15,
   "metadata": {},
   "outputs": [
    {
     "name": "stdout",
     "output_type": "stream",
     "text": [
      "Rating was: 0.7\n"
     ]
    }
   ],
   "source": [
    "question = \"What is the capital of France\"\n",
    "answer = \"The capital of France is Paris\"\n",
    "rating = rate_answer(question, answer)\n",
    "print(f\"Rating was: {rating}\")"
   ]
  },
  {
   "cell_type": "markdown",
   "metadata": {},
   "source": [
    "### Answer Improvement Rating Pipeline\n",
    "For a given anser to a question:\n",
    "1. Critique\n",
    "2. Improve\n",
    "3. Rate"
   ]
  },
  {
   "cell_type": "code",
   "execution_count": 10,
   "metadata": {},
   "outputs": [],
   "source": [
    "seed_answers = [\n",
    "    \"I don't know the answer\",\n",
    "    \"I'm not sure\",\n",
    "    \"I can't say on that one\"\n",
    "]"
   ]
  },
  {
   "cell_type": "code",
   "execution_count": null,
   "metadata": {},
   "outputs": [],
   "source": []
  }
 ],
 "metadata": {
  "kernelspec": {
   "display_name": "mcts",
   "language": "python",
   "name": "python3"
  },
  "language_info": {
   "codemirror_mode": {
    "name": "ipython",
    "version": 3
   },
   "file_extension": ".py",
   "mimetype": "text/x-python",
   "name": "python",
   "nbconvert_exporter": "python",
   "pygments_lexer": "ipython3",
   "version": "3.11.9"
  }
 },
 "nbformat": 4,
 "nbformat_minor": 2
}
